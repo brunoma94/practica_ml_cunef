{
 "cells": [
  {
   "cell_type": "markdown",
   "id": "0a67a3f3",
   "metadata": {},
   "source": [
    "**19/12/2021**\n",
    "<br>\n",
    "Bruno Mazzilli González"
   ]
  },
  {
   "cell_type": "markdown",
   "id": "a514deba",
   "metadata": {},
   "source": [
    "> # Seleccionamos el mejor modelo"
   ]
  },
  {
   "cell_type": "markdown",
   "id": "4afaa6e2",
   "metadata": {},
   "source": [
    "En este notebook vamos a comparar las diferentes matrices de confusión y las curvas ROC de todos los modelos que se han elaborado para este estudio. Se tendrán en cuenta todas estas medidas y valores para tomar la decisión de que modelo elegir. Se considerará también el modelo de negocio de una compañía de seguros."
   ]
  },
  {
   "cell_type": "markdown",
   "id": "94c42472",
   "metadata": {},
   "source": [
    "### Librerias"
   ]
  },
  {
   "cell_type": "code",
   "execution_count": 1,
   "id": "57793b21",
   "metadata": {},
   "outputs": [],
   "source": [
    "import numpy as np\n",
    "import pandas as pd\n",
    "import matplotlib\n",
    "from matplotlib import pyplot as plt # plots\n",
    "import seaborn as sns # plots\n",
    "import pickle\n",
    "from sklearn.metrics import classification_report, confusion_matrix \n",
    "from sklearn import datasets, metrics, model_selection\n",
    "from sklearn.model_selection import GridSearchCV\n",
    "from sklearn.model_selection import GridSearchCV\n",
    "from sklearn.ensemble import RandomForestClassifier \n",
    "#import scikitplot as skplt\n",
    "import warnings\n",
    "warnings.filterwarnings(\"ignore\")"
   ]
  },
  {
   "cell_type": "markdown",
   "id": "db7118d9",
   "metadata": {},
   "source": [
    "### Importamos datos"
   ]
  },
  {
   "cell_type": "code",
   "execution_count": 2,
   "id": "7a7c814d",
   "metadata": {},
   "outputs": [],
   "source": [
    "X_train = pd.read_parquet('data/x_train.parquet')\n",
    "\n",
    "X_test = pd.read_parquet('data/x_test.parquet')\n",
    "X_test.reset_index(drop=True, inplace=True)\n",
    "\n",
    "Y_train = pd.read_parquet('data/y_train.parquet')\n",
    "\n",
    "Y_test = pd.read_parquet('data/y_test.parquet')\n",
    "Y_test.reset_index(drop=True, inplace=True)"
   ]
  },
  {
   "cell_type": "markdown",
   "id": "b95f7fc0",
   "metadata": {},
   "source": [
    "### Importamos modelos"
   ]
  },
  {
   "cell_type": "code",
   "execution_count": 4,
   "id": "3cd357e6",
   "metadata": {},
   "outputs": [],
   "source": [
    "base =  pd.read_pickle('models/base_model.pkl')\n",
    "\n",
    "logit =  pd.read_pickle('models/logit_model.pkl')\n",
    "\n",
    "random_forest =  pd.read_pickle('models/random_forest_model.pkl')\n",
    "\n",
    "xg_boost = pd.read_pickle('models/xg_boost_model.pkl')"
   ]
  },
  {
   "cell_type": "markdown",
   "id": "62704524",
   "metadata": {},
   "source": [
    "### Matriz de confusión"
   ]
  },
  {
   "cell_type": "code",
   "execution_count": 5,
   "id": "86fb5f64",
   "metadata": {},
   "outputs": [],
   "source": [
    "def conf_matrix_norm(Y_test, Y_pred): # va a comparar los resultados de las predicciones de la variable target vs la real del testset\n",
    "    cnf_matrix_tra = confusion_matrix(Y_test, Y_pred,  normalize='true')\n",
    "    conf_plot = sns.heatmap(cnf_matrix_tra, annot=True, cmap='Blues', fmt='g')\n",
    "    bottom, top = conf_plot.get_ylim()\n",
    "    conf_plot.set_ylim(bottom + 0.5, top - 0.5)\n",
    "    conf_plot.set_title(\"Confusion matrix, with normalization\")\n",
    "    conf_plot.set_ylabel('True Label')\n",
    "    conf_plot.set_xlabel('Predicted Label');"
   ]
  },
  {
   "cell_type": "markdown",
   "id": "b5e48ed0",
   "metadata": {},
   "source": [
    "#### Modelo Base"
   ]
  },
  {
   "cell_type": "code",
   "execution_count": 8,
   "id": "12041dff",
   "metadata": {},
   "outputs": [
    {
     "name": "stdout",
     "output_type": "stream",
     "text": [
      "              precision    recall  f1-score   support\n",
      "\n",
      "           0       0.98      1.00      0.99   1474318\n",
      "           1       0.00      0.00      0.00     24548\n",
      "\n",
      "    accuracy                           0.98   1498866\n",
      "   macro avg       0.49      0.50      0.50   1498866\n",
      "weighted avg       0.97      0.98      0.98   1498866\n",
      "\n",
      "CPU times: user 3.19 s, sys: 274 ms, total: 3.46 s\n",
      "Wall time: 3.56 s\n"
     ]
    },
    {
     "data": {
      "image/png": "[encoded data removed]",
      "text/plain": [
       "<Figure size 432x288 with 2 Axes>"
      ]
     },
     "metadata": {
      "needs_background": "light"
     },
     "output_type": "display_data"
    }
   ],
   "source": [
    "%%time\n",
    "pred_base = base.predict(X_test)\n",
    "conf_matrix_norm(Y_test, pred_base)\n",
    "print(classification_report(Y_test,pred_base))"
   ]
  },
  {
   "cell_type": "markdown",
   "id": "45020385",
   "metadata": {},
   "source": [
    "#### Modelo Regresión Logística"
   ]
  },
  {
   "cell_type": "code",
   "execution_count": 9,
   "id": "6d206e6b",
   "metadata": {},
   "outputs": [
    {
     "name": "stdout",
     "output_type": "stream",
     "text": [
      "              precision    recall  f1-score   support\n",
      "\n",
      "           0       0.99      0.74      0.85   1474318\n",
      "           1       0.04      0.70      0.08     24548\n",
      "\n",
      "    accuracy                           0.74   1498866\n",
      "   macro avg       0.52      0.72      0.46   1498866\n",
      "weighted avg       0.98      0.74      0.84   1498866\n",
      "\n",
      "CPU times: user 4.77 s, sys: 1.77 s, total: 6.54 s\n",
      "Wall time: 7.66 s\n"
     ]
    },
    {
     "data": {
      "image/png": "[encoded data removed]",
      "text/plain": [
       "<Figure size 432x288 with 2 Axes>"
      ]
     },
     "metadata": {
      "needs_background": "light"
     },
     "output_type": "display_data"
    }
   ],
   "source": [
    "%%time\n",
    "pred_logit = logit.predict(X_test)\n",
    "conf_matrix_norm(Y_test, pred_logit)\n",
    "print(classification_report(Y_test,pred_logit))"
   ]
  },
  {
   "cell_type": "markdown",
   "id": "4c13c6fc",
   "metadata": {},
   "source": [
    "#### Modelo Random Forest"
   ]
  },
  {
   "cell_type": "code",
   "execution_count": 10,
   "id": "372bc3e4",
   "metadata": {},
   "outputs": [
    {
     "name": "stdout",
     "output_type": "stream",
     "text": [
      "              precision    recall  f1-score   support\n",
      "\n",
      "           0       0.99      0.99      0.99   1474318\n",
      "           1       0.39      0.25      0.30     24548\n",
      "\n",
      "    accuracy                           0.98   1498866\n",
      "   macro avg       0.69      0.62      0.65   1498866\n",
      "weighted avg       0.98      0.98      0.98   1498866\n",
      "\n",
      "CPU times: user 1min 19s, sys: 10.8 s, total: 1min 30s\n",
      "Wall time: 47.1 s\n"
     ]
    },
    {
     "data": {
      "image/png": "[encoded data removed]",
      "text/plain": [
       "<Figure size 432x288 with 2 Axes>"
      ]
     },
     "metadata": {
      "needs_background": "light"
     },
     "output_type": "display_data"
    }
   ],
   "source": [
    "%%time\n",
    "pred_rf= random_forest.predict(X_test)\n",
    "conf_matrix_norm(Y_test, pred_rf)\n",
    "print(classification_report(Y_test,pred_rf))"
   ]
  },
  {
   "cell_type": "markdown",
   "id": "3958b032",
   "metadata": {},
   "source": [
    "#### Modelo XG BOOST:"
   ]
  },
  {
   "cell_type": "code",
   "execution_count": 11,
   "id": "07940c5a",
   "metadata": {},
   "outputs": [
    {
     "name": "stdout",
     "output_type": "stream",
     "text": [
      "              precision    recall  f1-score   support\n",
      "\n",
      "           0       0.99      1.00      0.99   1474318\n",
      "           1       0.60      0.15      0.24     24548\n",
      "\n",
      "    accuracy                           0.98   1498866\n",
      "   macro avg       0.79      0.57      0.61   1498866\n",
      "weighted avg       0.98      0.98      0.98   1498866\n",
      "\n",
      "CPU times: user 45.8 s, sys: 3.62 s, total: 49.5 s\n",
      "Wall time: 26.6 s\n"
     ]
    },
    {
     "data": {
      "image/png": "[encoded data removed]",
      "text/plain": [
       "<Figure size 432x288 with 2 Axes>"
      ]
     },
     "metadata": {
      "needs_background": "light"
     },
     "output_type": "display_data"
    }
   ],
   "source": [
    "%%time\n",
    "pred_boost= xg_boost.predict(X_test)\n",
    "conf_matrix_norm(Y_test, pred_boost)\n",
    "print(classification_report(Y_test,pred_boost))"
   ]
  },
  {
   "cell_type": "markdown",
   "id": "e55fc47c",
   "metadata": {},
   "source": [
    "### Curva ROC:"
   ]
  },
  {
   "cell_type": "code",
   "execution_count": 14,
   "id": "b79eb9d7",
   "metadata": {},
   "outputs": [
    {
     "data": {
      "image/png": "[encoded data removed]",
      "text/plain": [
       "<Figure size 432x288 with 1 Axes>"
      ]
     },
     "metadata": {
      "needs_background": "light"
     },
     "output_type": "display_data"
    }
   ],
   "source": [
    "base_disp = metrics.plot_roc_curve(base, X_test, Y_test) # ROC null_model\n",
    "logit_disp = metrics.plot_roc_curve(logit, X_test, Y_test ,ax=base_disp.ax_) # ROC logit_model mismos ejes que el roc null_model\n",
    "rf_disp = metrics.plot_roc_curve(random_forest, X_test, Y_test, ax=base_disp.ax_) # ROC random_forest sames axes roc null_model\n",
    "boost_disp = metrics.plot_roc_curve(xg_boost, X_test, Y_test, ax=base_disp.ax_) # ROC XG_BOOST mismos ejes que el roc null_model\n",
    "base_disp.figure_.suptitle(\"ROC curve comparison\") # título\n",
    "plt.show()"
   ]
  },
  {
   "cell_type": "markdown",
   "id": "dd4afc36",
   "metadata": {},
   "source": [
    "## Mejor Modelo"
   ]
  },
  {
   "cell_type": "markdown",
   "id": "1d45271a",
   "metadata": {},
   "source": [
    "En primer lugar, hemos considerado el porcentaje de accuracy de los modelos. Los modelos Random Forest y XG BOOST tienen una clara ventaja en esta métrica. Esto se debe a que estos dos modelos han logrado predecir la clase 0 (no ha habido victimas mortales en el accidente) de la variable target mucho mejor y como ya hemos mencionado el dataset esta desbalanceado a favor de la clase 0. Por tanto, al predecir la clase 0 mejor estos dos modelos han conseguido obtener un mejor accuracy. <br> <br>\n",
    "No obstante nos interesa predecir con mayor éxito la clase 1 (ha habido una victima mortal) de la variable target. En este sentido tomamos el punto de vista de una compañía de seguros. El coste de errores para una compañía de seguros es mayor cuando se predice la clase 1 cuando en verdad era la clase 0 (es decir falsos positivos). Esto se debe a que un mayor numero de falsos positivos implica mayor inmovilización de capital para pagar estas casuísticas. Este capital se podría desplegar a areas más fructíferas de la empresa si se reduce el numero de falsos positivos. Por otro lado, predecir la clase 0 cuando en realidad era la clase 1 (falso negativo) implica que la compañía de seguros no estaría desplegando capital suficiente para pagar estas casuísticas. Nos interesa encontrar un modelo que reduzca en medida de lo posible el numero de falsos positivos y falsos negativos. \n",
    "Se considera que el coste de error para la aseguradora es mayor cuando el numero de falsos negativos es mayor ya que no tener capital suficiente para pagar las casuísticas puede resultar en el incumplimiento de algunos contratos de seguros. Por tanto queremos seleccionar el modelo que tenga el menor numero de falsos negativos y falsos positivos pero a la vez con preferencia a reducir el numero de falsos negativos.\n",
    "<br><br>\n",
    "Si observamos las matrices de confusión de nuestros modelos vemos que el modelo de regresión logística es el que ha conseguido predecir la clase 1 con mayor éxito. Sin embargo observamos que es muy elevada la cifra de accidentes que categoriza como clase 1 que en realidad no lo son (falsos positivos). En cambio este modelo tiene el menor numero de falsos negativos. Siguiendo este criterio la entidad aseguradora obtendría un mejor balance del numero de falsos negativos y falsos positivos. <br><br>\n",
    "Si a esto le añadimos el factor 'tiempo de procesamiento' para cada modelo, el modelo de regresión logística sería el claro ganador. No obstante fijandonos solamente en las matrices de confusión no estamos considerando las características de un dataset con las clases de la variable target claramente desbalanceadas. Por esto es importante fijarse el f1-score, una métrica que considera el numero de falsos positivos y falsos negativos y que por tanto es más útil a la hora de considerar el coste de los errores. El modelo con el mayor f1-score es el random forest. Este modelo es el que reduce mas que los demás modelos el numero de falsos positivos y falsos negativos. El segundo modelo con el mejor f1_score es el XG BOOST. Por tanto vamos a comparar estos dos modelos para elegir el modelo ganador. <br><br>\n",
    "Para decidir entre estos modelos vamos a considerar la métrica de recall. Esta métrica se calcula dividiendo el numero de positivos correctos por el total positivos correctos y falsos negativos. Por tanto el modelo con mejor valor para esta métrica es el que obtiene el mejor numero de falsos negativos y falsos positivos pero a la vez con preferencia a reducir el numero de falsos negativos. Finalmente nos decantamos por el modelo random forest que tiene mejor recall. La comparación de las curvas de ROC apoyan nuestra decisión. El modelo random forest es el que consigue el mayor numero de positivos correctos y a la vez reduce el numero de falsos positivos. A esto le hemos añadido una consideración por el numero de falsos negativos para decidir el mejor modelo. "
   ]
  },
  {
   "cell_type": "markdown",
   "id": "5e584f35",
   "metadata": {},
   "source": [
    "A continuación, procedemos a estimar los mejores hiperparámetros para el modelo Random Forest:"
   ]
  },
  {
   "cell_type": "markdown",
   "id": "c57fd4b6",
   "metadata": {},
   "source": [
    "Hiperparámetros:"
   ]
  },
  {
   "cell_type": "markdown",
   "id": "8e06280b",
   "metadata": {},
   "source": [
    "Definimos los mejores hiperparámetros para nuestro mejor modelo. Esto en pricipio, permitirá optimizar el modelo mejorando así su aplicación."
   ]
  },
  {
   "cell_type": "code",
   "execution_count": null,
   "id": "4bebf778",
   "metadata": {},
   "outputs": [
    {
     "name": "stdout",
     "output_type": "stream",
     "text": [
      "Fitting 3 folds for each of 12 candidates, totalling 36 fits\n"
     ]
    }
   ],
   "source": [
    "%%time\n",
    "param_grid = {\n",
    "    'max_features': ['auto', 'sqrt', 'log2'],\n",
    "    'criterion' :['gini', 'entropy'],\n",
    "    'n_estimators': [200, 500]\n",
    " }\n",
    "\n",
    "gsearch_RandomForest = GridSearchCV(estimator = RandomForestClassifier(500), \n",
    "                                    param_grid = param_grid, \n",
    "                                    scoring = 'f1',\n",
    "                                    n_jobs = -1,\n",
    "                                    verbose=2,\n",
    "                                    cv = 3)\n",
    "\n",
    "\n",
    "\n",
    "#usamos todos\n",
    "gsearch_RandomForest.fit(X_train, np.ravel(Y_train))"
   ]
  },
  {
   "cell_type": "code",
   "execution_count": null,
   "id": "4d1c662a",
   "metadata": {},
   "outputs": [],
   "source": [
    "gsearch_RandomForest.best_params_"
   ]
  },
  {
   "cell_type": "code",
   "execution_count": null,
   "id": "022548ad",
   "metadata": {},
   "outputs": [],
   "source": [
    "gsearch_RandomForest.best_estimator_"
   ]
  },
  {
   "cell_type": "code",
   "execution_count": null,
   "id": "7b73ecfb",
   "metadata": {},
   "outputs": [],
   "source": [
    "%%time\n",
    "gsearch_RandomForest2 = gsearch_RandomForest.best_estimator_\n",
    "gsearch_RandomForest2.fit(X_train, Y_train)"
   ]
  },
  {
   "cell_type": "code",
   "execution_count": null,
   "id": "916e4af5",
   "metadata": {},
   "outputs": [],
   "source": [
    "%%time\n",
    "pred_param = gsearch_RandomForest2.predict(X_test)\n",
    "conf_matrix_norm(Y_test, pred_param)\n",
    "print(classification_report(Y_test ,pred_param))"
   ]
  },
  {
   "cell_type": "code",
   "execution_count": null,
   "id": "bccf9b14",
   "metadata": {},
   "outputs": [],
   "source": [
    "metrics.plot_roc_curve(gsearch_RandomForest2, X_test, Y_test)                       # CURVA ROC\n",
    "plt.show() \n",
    "print(\"Random Forest score train: \", gsearch_RandomForest2.score(X_train, Y_train)) # score_train\n",
    "print(\"Random Forest score: \", gsearch_RandomForest2.score(X_test, Y_test))         # score_test"
   ]
  },
  {
   "cell_type": "code",
   "execution_count": null,
   "id": "ce8934bb",
   "metadata": {},
   "outputs": [],
   "source": [
    "predicted_probabilities = gsearch_RandomForest2.predict_proba(X_test)\n",
    "skplt.metrics.plot_cumulative_gain(Y_test, predicted_probabilities)"
   ]
  },
  {
   "cell_type": "code",
   "execution_count": null,
   "id": "d5d5501c",
   "metadata": {},
   "outputs": [],
   "source": [
    "coefs = np.abs(gsearch_RandomForest2.feature_importances_)\n",
    "indices = np.argsort(coefs)[::-1]\n",
    "\n",
    "plt.figure()\n",
    "plt.title(\"Feature importances (Random Forest Param)\")\n",
    "plt.bar(range(10), coefs[indices[:10]],\n",
    "       color=\"r\", align=\"center\")\n",
    "plt.xticks(range(10), X_train.columns[indices[:10]], rotation=45, ha='right')\n",
    "plt.subplots_adjust(bottom=0.3)"
   ]
  },
  {
   "cell_type": "markdown",
   "id": "b51141a0",
   "metadata": {},
   "source": [
    "#### Guardamos el modelo"
   ]
  },
  {
   "cell_type": "code",
   "execution_count": null,
   "id": "1a12a243",
   "metadata": {},
   "outputs": [],
   "source": [
    "def save_models(filename, model):\n",
    "    with open(filename, 'wb') as file:\n",
    "        pickle.dump(model, file)"
   ]
  },
  {
   "cell_type": "code",
   "execution_count": null,
   "id": "3f0d085e",
   "metadata": {},
   "outputs": [],
   "source": [
    "save_models('models/rf_param.pkl', gsearch_RandomForest2) "
   ]
  },
  {
   "cell_type": "markdown",
   "id": "2da2c6b7",
   "metadata": {},
   "source": [
    "### Conclusiones"
   ]
  },
  {
   "cell_type": "markdown",
   "id": "15a0cef1",
   "metadata": {},
   "source": [
    "El objetivo principal de este estudio ha sido elaborar modelos de machine learning que predigan lo mejor posible si ha habido o no una víctima mortal en un accidente de tráfico dadas ciertas características. Se ha utilizado un dataset de la página web de Transport Canada y se ha tomado el punto de vista de una entidad aseguradora con el fin de optimizar el modelo de negocio.\n",
    "<br> <br>\n",
    "Tras el analisis exploratorio y algunas modificaciones en el dataset hemos ajustado a nuestro dataset varios modelos de machine learning incluyendo: regresión logística, random forest, XG Boost y  k-nn. Este último no se ha podido ajustar debido a la capacidad de computo (Será entrenado mas adelante no obstante). Una consideración importante a la hora de hacer el estudio ha sido el tiempo que ha tardado cada modelo en ajustarse a nuestro training set y hacer la predicción en el test set. El modelo XG Boost ha sido el que mas tiempo ha tardado. El que menos ha tardado ha sido el modelo de regresión logística. No obstante este no ha sido el factor mas importante a la hora de escoger el mejor modelo.\n",
    "<br> <br>\n",
    "Después de analizar los indicadores más relevantes de cada modelo, como el recall, el f-1 o el número de falsos negativos, y teniendo en cuenta el conocimiento de negocio, hemos concluido que el modelo óptimo es el modelo random forest hiperparametrizado.\n",
    "<br><br>\n",
    "Adicionalmente, mediante la curva de cumulative gains, hemos obtenido que nuestro modelo es capaz de predecir el 80% de los accidentes de clase 1 con aproximadamente el 25% de la muestra y cerca del 100% de los accidentes de clase 1 con el 60% de la muestra.\n",
    "<br><br>\n",
    "Respecto a las variables seleccionadas, es destacable que todos los modelos dan distintas importancias a las variables de nuestro dataset. Nuestro mejor modelo, le da mucha importancia a el momento en el que ocurrió el accidente. Habría que hacer un analisis más profundo para averiguar las variables con mayor capacidad predictiva. Por ejemplo, si quitamos cierta variable, se reduce mucho la capacidad predictiva de nuestro modelo?\n",
    "<br><br>\n",
    "Para concluir, nos gustaría destacar la importancia y dificultad del proceso de limpieza del dataset y selección de variables, siendo esencial el conocimiento de negocio, tanto para ajustar los modelos correctamente, como para la selección del modelo óptimo."
   ]
  },
  {
   "cell_type": "code",
   "execution_count": null,
   "id": "bb4066c1",
   "metadata": {},
   "outputs": [],
   "source": []
  }
 ],
 "metadata": {
  "kernelspec": {
   "display_name": "Python [conda env:cca_env]",
   "language": "python",
   "name": "conda-env-cca_env-py"
  },
  "language_info": {
   "codemirror_mode": {
    "name": "ipython",
    "version": 3
   },
   "file_extension": ".py",
   "mimetype": "text/x-python",
   "name": "python",
   "nbconvert_exporter": "python",
   "pygments_lexer": "ipython3",
   "version": "3.9.7"
  }
 },
 "nbformat": 4,
 "nbformat_minor": 5
}
