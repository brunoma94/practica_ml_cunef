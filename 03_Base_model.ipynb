{
 "cells": [
  {
   "cell_type": "markdown",
   "id": "d90c0d1c",
   "metadata": {},
   "source": [
    "**19/12/2021**\n",
    "<br>\n",
    "Bruno Mazzilli González"
   ]
  },
  {
   "cell_type": "markdown",
   "id": "d3cf6e22",
   "metadata": {},
   "source": [
    "> # Modelo Base y Train-Test Set:"
   ]
  },
  {
   "cell_type": "markdown",
   "id": "4574d99d",
   "metadata": {},
   "source": [
    "En este notebook vamos a crear los data sets correspondientes a train y a test. Además se va a entrenar el modelo 'base' para tener un 'benchmark' con los demás modelos que vayamos creando."
   ]
  },
  {
   "cell_type": "markdown",
   "id": "8506ceee",
   "metadata": {},
   "source": [
    "### Librerias"
   ]
  },
  {
   "cell_type": "code",
   "execution_count": 1,
   "id": "fb7198e2",
   "metadata": {},
   "outputs": [],
   "source": [
    "import numpy as np\n",
    "import pandas as pd\n",
    "import matplotlib\n",
    "from matplotlib import pyplot as plt # plots\n",
    "import seaborn as sns # plots\n",
    "from sklearn.ensemble import IsolationForest\n",
    "from sklearn import preprocessing \n",
    "from sklearn.linear_model import Lasso, LassoCV\n",
    "import pickle\n",
    "from sklearn.preprocessing import MinMaxScaler, StandardScaler\n",
    "from sklearn.model_selection import train_test_split\n",
    "from imblearn.over_sampling import SMOTE\n",
    "from sklearn.dummy import DummyClassifier\n",
    "from sklearn.linear_model import LogisticRegression # Log Regression\n",
    "from sklearn.metrics import classification_report, confusion_matrix \n",
    "from sklearn import datasets, metrics, model_selection\n",
    "\n",
    "import warnings\n",
    "warnings.filterwarnings(\"ignore\")"
   ]
  },
  {
   "cell_type": "markdown",
   "id": "34a58567",
   "metadata": {},
   "source": [
    "### Importamos datos"
   ]
  },
  {
   "cell_type": "code",
   "execution_count": 2,
   "id": "7fd7a9d7",
   "metadata": {},
   "outputs": [],
   "source": [
    "final_df = pd.read_parquet('data/c_sev_df_final.parquet')"
   ]
  },
  {
   "cell_type": "code",
   "execution_count": 3,
   "id": "6b3c17e2",
   "metadata": {},
   "outputs": [
    {
     "data": {
      "text/plain": [
       "0    4914502\n",
       "1      81717\n",
       "Name: target_c_sev, dtype: int64"
      ]
     },
     "execution_count": 3,
     "metadata": {},
     "output_type": "execute_result"
    }
   ],
   "source": [
    "final_df['target_c_sev'].value_counts()"
   ]
  },
  {
   "cell_type": "code",
   "execution_count": 4,
   "id": "f82e5cdc",
   "metadata": {},
   "outputs": [
    {
     "name": "stdout",
     "output_type": "stream",
     "text": [
      "(4996219, 101)\n",
      "<class 'pandas.core.frame.DataFrame'>\n",
      "RangeIndex: 4996219 entries, 0 to 4996218\n",
      "Data columns (total 101 columns):\n",
      " #    Column        Dtype  \n",
      "---   ------        -----  \n",
      " 0    C_WTHR_2.0    uint8  \n",
      " 1    C_RSUR_7.0    uint8  \n",
      " 2    C_TRAF_7.0    uint8  \n",
      " 3    V_TYPE_7.0    uint8  \n",
      " 4    C_TRAF_10.0   uint8  \n",
      " 5    P_PSN_31.0    uint8  \n",
      " 6    C_CONF_33.0   uint8  \n",
      " 7    C_RSUR_3.0    uint8  \n",
      " 8    C_RSUR_6.0    uint8  \n",
      " 9    C_MNTH        float64\n",
      " 10   C_TRAF_4.0    uint8  \n",
      " 11   C_TRAF_8.0    uint8  \n",
      " 12   V_TYPE_10.0   uint8  \n",
      " 13   V_TYPE_21.0   uint8  \n",
      " 14   C_TRAF_12.0   uint8  \n",
      " 15   C_TRAF_13.0   uint8  \n",
      " 16   C_CONF_5.0    uint8  \n",
      " 17   C_VEHS_26.0   uint8  \n",
      " 18   V_TYPE_18.0   uint8  \n",
      " 19   C_VEHS_15.0   uint8  \n",
      " 20   C_CONF_25.0   uint8  \n",
      " 21   C_RALN_4.0    uint8  \n",
      " 22   C_VEHS_14.0   uint8  \n",
      " 23   C_VEHS_46.0   uint8  \n",
      " 24   C_WTHR_7.0    uint8  \n",
      " 25   V_TYPE_9.0    uint8  \n",
      " 26   C_VEHS_18.0   uint8  \n",
      " 27   P_USER_4.0    uint8  \n",
      " 28   C_VEHS_10.0   uint8  \n",
      " 29   C_VEHS_11.0   uint8  \n",
      " 30   P_PSN_33.0    uint8  \n",
      " 31   V_YEAR        float64\n",
      " 32   C_VEHS_4.0    uint8  \n",
      " 33   C_TRAF_5.0    uint8  \n",
      " 34   C_VEHS_77.0   uint8  \n",
      " 35   P_SAFE_10.0   uint8  \n",
      " 36   C_RCFG_3.0    uint8  \n",
      " 37   C_RSUR_2.0    uint8  \n",
      " 38   C_VEHS_29.0   uint8  \n",
      " 39   C_RCFG_9.0    uint8  \n",
      " 40   C_VEHS_6.0    uint8  \n",
      " 41   C_CONF_22.0   uint8  \n",
      " 42   C_VEHS_3.0    uint8  \n",
      " 43   C_HOUR        float64\n",
      " 44   P_SAFE_9.0    uint8  \n",
      " 45   P_PSN_96.0    uint8  \n",
      " 46   V_TYPE_23.0   uint8  \n",
      " 47   P_SEX_2       uint8  \n",
      " 48   C_RSUR_8.0    uint8  \n",
      " 49   C_VEHS_30.0   uint8  \n",
      " 50   C_RCFG_2.0    uint8  \n",
      " 51   C_RCFG_8.0    uint8  \n",
      " 52   V_TYPE_14.0   uint8  \n",
      " 53   C_TRAF_6.0    uint8  \n",
      " 54   C_VEHS_19.0   uint8  \n",
      " 55   C_VEHS_34.0   uint8  \n",
      " 56   C_VEHS_20.0   uint8  \n",
      " 57   C_TRAF_18.0   uint8  \n",
      " 58   C_VEHS_56.0   uint8  \n",
      " 59   V_TYPE_8.0    uint8  \n",
      " 60   C_VEHS_37.0   uint8  \n",
      " 61   C_TRAF_9.0    uint8  \n",
      " 62   C_VEHS_27.0   uint8  \n",
      " 63   C_RALN_5.0    uint8  \n",
      " 64   P_PSN_22.0    uint8  \n",
      " 65   C_CONF_2.0    uint8  \n",
      " 66   C_RCFG_7.0    uint8  \n",
      " 67   C_VEHS_31.0   uint8  \n",
      " 68   P_USER_2.0    uint8  \n",
      " 69   C_RCFG_5.0    uint8  \n",
      " 70   C_WTHR_4.0    uint8  \n",
      " 71   C_TRAF_16.0   uint8  \n",
      " 72   C_VEHS_2.0    uint8  \n",
      " 73   C_VEHS_51.0   uint8  \n",
      " 74   C_CONF_41.0   uint8  \n",
      " 75   C_CONF_21.0   uint8  \n",
      " 76   C_VEHS_24.0   uint8  \n",
      " 77   C_CONF_24.0   uint8  \n",
      " 78   C_CONF_6.0    uint8  \n",
      " 79   C_VEHS_32.0   uint8  \n",
      " 80   V_TYPE_6.0    uint8  \n",
      " 81   C_WTHR_3.0    uint8  \n",
      " 82   C_VEHS_7.0    uint8  \n",
      " 83   C_VEHS_71.0   uint8  \n",
      " 84   P_SAFE_13.0   uint8  \n",
      " 85   P_SAFE_2.0    uint8  \n",
      " 86   C_RCFG_10.0   uint8  \n",
      " 87   C_RSUR_5.0    uint8  \n",
      " 88   C_VEHS_57.0   uint8  \n",
      " 89   C_VEHS_58.0   uint8  \n",
      " 90   P_ISEV_2.0    uint8  \n",
      " 91   C_RSUR_9.0    uint8  \n",
      " 92   C_VEHS_13.0   uint8  \n",
      " 93   P_PSN_97.0    uint8  \n",
      " 94   C_CONF_23.0   uint8  \n",
      " 95   C_YEAR        int64  \n",
      " 96   C_CONF_4.0    uint8  \n",
      " 97   C_VEHS_44.0   uint8  \n",
      " 98   C_VEHS_35.0   uint8  \n",
      " 99   P_PSN_21.0    uint8  \n",
      " 100  target_c_sev  int64  \n",
      "dtypes: float64(3), int64(2), uint8(96)\n",
      "memory usage: 648.0 MB\n"
     ]
    }
   ],
   "source": [
    "print(final_df.shape)\n",
    "final_df.info(verbose=True)"
   ]
  },
  {
   "cell_type": "code",
   "execution_count": 5,
   "id": "9fa5e02e",
   "metadata": {},
   "outputs": [
    {
     "data": {
      "text/html": [
       "<div>\n",
       "<style scoped>\n",
       "    .dataframe tbody tr th:only-of-type {\n",
       "        vertical-align: middle;\n",
       "    }\n",
       "\n",
       "    .dataframe tbody tr th {\n",
       "        vertical-align: top;\n",
       "    }\n",
       "\n",
       "    .dataframe thead th {\n",
       "        text-align: right;\n",
       "    }\n",
       "</style>\n",
       "<table border=\"1\" class=\"dataframe\">\n",
       "  <thead>\n",
       "    <tr style=\"text-align: right;\">\n",
       "      <th></th>\n",
       "      <th>C_MNTH</th>\n",
       "      <th>V_YEAR</th>\n",
       "      <th>C_HOUR</th>\n",
       "      <th>C_YEAR</th>\n",
       "      <th>target_c_sev</th>\n",
       "    </tr>\n",
       "  </thead>\n",
       "  <tbody>\n",
       "    <tr>\n",
       "      <th>0</th>\n",
       "      <td>1.0</td>\n",
       "      <td>1990.0</td>\n",
       "      <td>20.0</td>\n",
       "      <td>1999</td>\n",
       "      <td>0</td>\n",
       "    </tr>\n",
       "    <tr>\n",
       "      <th>1</th>\n",
       "      <td>1.0</td>\n",
       "      <td>1987.0</td>\n",
       "      <td>20.0</td>\n",
       "      <td>1999</td>\n",
       "      <td>0</td>\n",
       "    </tr>\n",
       "    <tr>\n",
       "      <th>2</th>\n",
       "      <td>1.0</td>\n",
       "      <td>1987.0</td>\n",
       "      <td>20.0</td>\n",
       "      <td>1999</td>\n",
       "      <td>0</td>\n",
       "    </tr>\n",
       "  </tbody>\n",
       "</table>\n",
       "</div>"
      ],
      "text/plain": [
       "   C_MNTH  V_YEAR  C_HOUR  C_YEAR  target_c_sev\n",
       "0     1.0  1990.0    20.0    1999             0\n",
       "1     1.0  1987.0    20.0    1999             0\n",
       "2     1.0  1987.0    20.0    1999             0"
      ]
     },
     "execution_count": 5,
     "metadata": {},
     "output_type": "execute_result"
    }
   ],
   "source": [
    "final_df.select_dtypes(include=['float64','int64']).head(3)"
   ]
  },
  {
   "cell_type": "markdown",
   "id": "05d2fe89",
   "metadata": {},
   "source": [
    "#### Escalamos los Datos"
   ]
  },
  {
   "cell_type": "code",
   "execution_count": 6,
   "id": "aca6ecee",
   "metadata": {},
   "outputs": [],
   "source": [
    "#creamos df con las variables que queremos escalar\n",
    "escalar = final_df[['C_MNTH','V_YEAR','C_HOUR','C_YEAR']]"
   ]
  },
  {
   "cell_type": "code",
   "execution_count": 7,
   "id": "0d38ae58",
   "metadata": {},
   "outputs": [
    {
     "data": {
      "text/html": [
       "<div>\n",
       "<style scoped>\n",
       "    .dataframe tbody tr th:only-of-type {\n",
       "        vertical-align: middle;\n",
       "    }\n",
       "\n",
       "    .dataframe tbody tr th {\n",
       "        vertical-align: top;\n",
       "    }\n",
       "\n",
       "    .dataframe thead th {\n",
       "        text-align: right;\n",
       "    }\n",
       "</style>\n",
       "<table border=\"1\" class=\"dataframe\">\n",
       "  <thead>\n",
       "    <tr style=\"text-align: right;\">\n",
       "      <th></th>\n",
       "      <th>C_MNTH</th>\n",
       "      <th>V_YEAR</th>\n",
       "      <th>C_HOUR</th>\n",
       "      <th>C_YEAR</th>\n",
       "    </tr>\n",
       "  </thead>\n",
       "  <tbody>\n",
       "    <tr>\n",
       "      <th>4996214</th>\n",
       "      <td>1.0</td>\n",
       "      <td>0.938596</td>\n",
       "      <td>0.608696</td>\n",
       "      <td>1.0</td>\n",
       "    </tr>\n",
       "    <tr>\n",
       "      <th>4996215</th>\n",
       "      <td>1.0</td>\n",
       "      <td>0.938596</td>\n",
       "      <td>0.608696</td>\n",
       "      <td>1.0</td>\n",
       "    </tr>\n",
       "    <tr>\n",
       "      <th>4996216</th>\n",
       "      <td>1.0</td>\n",
       "      <td>0.877193</td>\n",
       "      <td>0.826087</td>\n",
       "      <td>1.0</td>\n",
       "    </tr>\n",
       "    <tr>\n",
       "      <th>4996217</th>\n",
       "      <td>1.0</td>\n",
       "      <td>0.877193</td>\n",
       "      <td>0.826087</td>\n",
       "      <td>1.0</td>\n",
       "    </tr>\n",
       "    <tr>\n",
       "      <th>4996218</th>\n",
       "      <td>1.0</td>\n",
       "      <td>0.877193</td>\n",
       "      <td>0.826087</td>\n",
       "      <td>1.0</td>\n",
       "    </tr>\n",
       "  </tbody>\n",
       "</table>\n",
       "</div>"
      ],
      "text/plain": [
       "         C_MNTH    V_YEAR    C_HOUR  C_YEAR\n",
       "4996214     1.0  0.938596  0.608696     1.0\n",
       "4996215     1.0  0.938596  0.608696     1.0\n",
       "4996216     1.0  0.877193  0.826087     1.0\n",
       "4996217     1.0  0.877193  0.826087     1.0\n",
       "4996218     1.0  0.877193  0.826087     1.0"
      ]
     },
     "execution_count": 7,
     "metadata": {},
     "output_type": "execute_result"
    }
   ],
   "source": [
    "#escalamos datos y trasformamos los datos a un df\n",
    "scaler = MinMaxScaler()  # escalamos los datos                                     \n",
    "variables_escaladas = pd.DataFrame(scaler.fit_transform(escalar), columns = escalar.columns) \n",
    "variables_escaladas.tail()"
   ]
  },
  {
   "cell_type": "code",
   "execution_count": 8,
   "id": "29741a9f",
   "metadata": {},
   "outputs": [
    {
     "data": {
      "text/html": [
       "<div>\n",
       "<style scoped>\n",
       "    .dataframe tbody tr th:only-of-type {\n",
       "        vertical-align: middle;\n",
       "    }\n",
       "\n",
       "    .dataframe tbody tr th {\n",
       "        vertical-align: top;\n",
       "    }\n",
       "\n",
       "    .dataframe thead th {\n",
       "        text-align: right;\n",
       "    }\n",
       "</style>\n",
       "<table border=\"1\" class=\"dataframe\">\n",
       "  <thead>\n",
       "    <tr style=\"text-align: right;\">\n",
       "      <th></th>\n",
       "      <th>C_MNTH</th>\n",
       "      <th>V_YEAR</th>\n",
       "      <th>C_HOUR</th>\n",
       "      <th>C_YEAR</th>\n",
       "      <th>C_WTHR_2.0</th>\n",
       "      <th>C_RSUR_7.0</th>\n",
       "      <th>C_TRAF_7.0</th>\n",
       "      <th>V_TYPE_7.0</th>\n",
       "      <th>C_TRAF_10.0</th>\n",
       "      <th>P_PSN_31.0</th>\n",
       "      <th>...</th>\n",
       "      <th>P_ISEV_2.0</th>\n",
       "      <th>C_RSUR_9.0</th>\n",
       "      <th>C_VEHS_13.0</th>\n",
       "      <th>P_PSN_97.0</th>\n",
       "      <th>C_CONF_23.0</th>\n",
       "      <th>C_CONF_4.0</th>\n",
       "      <th>C_VEHS_44.0</th>\n",
       "      <th>C_VEHS_35.0</th>\n",
       "      <th>P_PSN_21.0</th>\n",
       "      <th>target_c_sev</th>\n",
       "    </tr>\n",
       "  </thead>\n",
       "  <tbody>\n",
       "    <tr>\n",
       "      <th>0</th>\n",
       "      <td>0.0</td>\n",
       "      <td>0.780702</td>\n",
       "      <td>0.869565</td>\n",
       "      <td>0.0</td>\n",
       "      <td>0</td>\n",
       "      <td>0</td>\n",
       "      <td>0</td>\n",
       "      <td>0</td>\n",
       "      <td>0</td>\n",
       "      <td>0</td>\n",
       "      <td>...</td>\n",
       "      <td>0</td>\n",
       "      <td>0</td>\n",
       "      <td>0</td>\n",
       "      <td>0</td>\n",
       "      <td>0</td>\n",
       "      <td>0</td>\n",
       "      <td>0</td>\n",
       "      <td>0</td>\n",
       "      <td>0</td>\n",
       "      <td>0</td>\n",
       "    </tr>\n",
       "    <tr>\n",
       "      <th>1</th>\n",
       "      <td>0.0</td>\n",
       "      <td>0.754386</td>\n",
       "      <td>0.869565</td>\n",
       "      <td>0.0</td>\n",
       "      <td>0</td>\n",
       "      <td>0</td>\n",
       "      <td>0</td>\n",
       "      <td>0</td>\n",
       "      <td>0</td>\n",
       "      <td>0</td>\n",
       "      <td>...</td>\n",
       "      <td>0</td>\n",
       "      <td>0</td>\n",
       "      <td>0</td>\n",
       "      <td>0</td>\n",
       "      <td>0</td>\n",
       "      <td>0</td>\n",
       "      <td>0</td>\n",
       "      <td>0</td>\n",
       "      <td>0</td>\n",
       "      <td>0</td>\n",
       "    </tr>\n",
       "    <tr>\n",
       "      <th>2</th>\n",
       "      <td>0.0</td>\n",
       "      <td>0.754386</td>\n",
       "      <td>0.869565</td>\n",
       "      <td>0.0</td>\n",
       "      <td>0</td>\n",
       "      <td>0</td>\n",
       "      <td>0</td>\n",
       "      <td>0</td>\n",
       "      <td>0</td>\n",
       "      <td>0</td>\n",
       "      <td>...</td>\n",
       "      <td>1</td>\n",
       "      <td>0</td>\n",
       "      <td>0</td>\n",
       "      <td>0</td>\n",
       "      <td>0</td>\n",
       "      <td>0</td>\n",
       "      <td>0</td>\n",
       "      <td>0</td>\n",
       "      <td>0</td>\n",
       "      <td>0</td>\n",
       "    </tr>\n",
       "    <tr>\n",
       "      <th>3</th>\n",
       "      <td>0.0</td>\n",
       "      <td>0.745614</td>\n",
       "      <td>0.347826</td>\n",
       "      <td>0.0</td>\n",
       "      <td>0</td>\n",
       "      <td>0</td>\n",
       "      <td>0</td>\n",
       "      <td>0</td>\n",
       "      <td>0</td>\n",
       "      <td>0</td>\n",
       "      <td>...</td>\n",
       "      <td>0</td>\n",
       "      <td>0</td>\n",
       "      <td>0</td>\n",
       "      <td>0</td>\n",
       "      <td>0</td>\n",
       "      <td>0</td>\n",
       "      <td>0</td>\n",
       "      <td>0</td>\n",
       "      <td>0</td>\n",
       "      <td>0</td>\n",
       "    </tr>\n",
       "    <tr>\n",
       "      <th>4</th>\n",
       "      <td>0.0</td>\n",
       "      <td>0.728070</td>\n",
       "      <td>0.739130</td>\n",
       "      <td>0.0</td>\n",
       "      <td>0</td>\n",
       "      <td>0</td>\n",
       "      <td>0</td>\n",
       "      <td>0</td>\n",
       "      <td>0</td>\n",
       "      <td>0</td>\n",
       "      <td>...</td>\n",
       "      <td>0</td>\n",
       "      <td>0</td>\n",
       "      <td>0</td>\n",
       "      <td>0</td>\n",
       "      <td>0</td>\n",
       "      <td>0</td>\n",
       "      <td>0</td>\n",
       "      <td>0</td>\n",
       "      <td>0</td>\n",
       "      <td>0</td>\n",
       "    </tr>\n",
       "  </tbody>\n",
       "</table>\n",
       "<p>5 rows × 101 columns</p>\n",
       "</div>"
      ],
      "text/plain": [
       "   C_MNTH    V_YEAR    C_HOUR  C_YEAR  C_WTHR_2.0  C_RSUR_7.0  C_TRAF_7.0  \\\n",
       "0     0.0  0.780702  0.869565     0.0           0           0           0   \n",
       "1     0.0  0.754386  0.869565     0.0           0           0           0   \n",
       "2     0.0  0.754386  0.869565     0.0           0           0           0   \n",
       "3     0.0  0.745614  0.347826     0.0           0           0           0   \n",
       "4     0.0  0.728070  0.739130     0.0           0           0           0   \n",
       "\n",
       "   V_TYPE_7.0  C_TRAF_10.0  P_PSN_31.0  ...  P_ISEV_2.0  C_RSUR_9.0  \\\n",
       "0           0            0           0  ...           0           0   \n",
       "1           0            0           0  ...           0           0   \n",
       "2           0            0           0  ...           1           0   \n",
       "3           0            0           0  ...           0           0   \n",
       "4           0            0           0  ...           0           0   \n",
       "\n",
       "   C_VEHS_13.0  P_PSN_97.0  C_CONF_23.0  C_CONF_4.0  C_VEHS_44.0  C_VEHS_35.0  \\\n",
       "0            0           0            0           0            0            0   \n",
       "1            0           0            0           0            0            0   \n",
       "2            0           0            0           0            0            0   \n",
       "3            0           0            0           0            0            0   \n",
       "4            0           0            0           0            0            0   \n",
       "\n",
       "   P_PSN_21.0  target_c_sev  \n",
       "0           0             0  \n",
       "1           0             0  \n",
       "2           0             0  \n",
       "3           0             0  \n",
       "4           0             0  \n",
       "\n",
       "[5 rows x 101 columns]"
      ]
     },
     "execution_count": 8,
     "metadata": {},
     "output_type": "execute_result"
    }
   ],
   "source": [
    "df_scaled = pd.concat([variables_escaladas, final_df.drop(columns = ['C_MNTH','V_YEAR','C_HOUR','C_YEAR'])],axis=1)\n",
    "df_scaled.head()"
   ]
  },
  {
   "cell_type": "code",
   "execution_count": 9,
   "id": "7df7b338",
   "metadata": {},
   "outputs": [
    {
     "data": {
      "text/plain": [
       "(4996219, 101)"
      ]
     },
     "execution_count": 9,
     "metadata": {},
     "output_type": "execute_result"
    }
   ],
   "source": [
    "df_scaled.shape"
   ]
  },
  {
   "cell_type": "code",
   "execution_count": 24,
   "id": "2352ec20",
   "metadata": {},
   "outputs": [],
   "source": [
    "df_scaled.to_parquet('data/df_scaled.parquet')"
   ]
  },
  {
   "cell_type": "code",
   "execution_count": 10,
   "id": "92d0b97f",
   "metadata": {},
   "outputs": [],
   "source": [
    "X = df_scaled.drop(\"target_c_sev\", axis= 1)"
   ]
  },
  {
   "cell_type": "code",
   "execution_count": 11,
   "id": "095ed321",
   "metadata": {},
   "outputs": [],
   "source": [
    "y = df_scaled[\"target_c_sev\"]"
   ]
  },
  {
   "cell_type": "markdown",
   "id": "83bc0817",
   "metadata": {},
   "source": [
    "<br>\n",
    "\n",
    "### Train & Test Set\n",
    "\n",
    "Para entrenar los modelos y poder evaluarlos tenemos que dividir el conjunto de datos en dos partes, train y test. Del EDA sabemos que el conjunto de datos está desequilibrado. Para resolver ese problema, aplicaremos un método de sobremuestreo llamado Smote. La función Smote crea muestras sintéticas de la clase minoritaria haciendo que la clase minoritaria sea igual a la mayoritaria. Para ello, Smote selecciona registros similares."
   ]
  },
  {
   "cell_type": "code",
   "execution_count": 18,
   "id": "810b8ac8",
   "metadata": {},
   "outputs": [
    {
     "name": "stdout",
     "output_type": "stream",
     "text": [
      "(4816257, 100)\n",
      "(1498866, 100)\n",
      "(4816257,)\n",
      "(1498866,)\n",
      "CPU times: user 1min 40s, sys: 35.3 s, total: 2min 15s\n",
      "Wall time: 2min 10s\n"
     ]
    }
   ],
   "source": [
    "%%time\n",
    "\n",
    "# Separamos en train y test\n",
    "X_train, X_test, Y_train, Y_test = train_test_split(X, y, test_size=0.30, random_state=1)\n",
    "\n",
    "# Utilizamos smote para balancear la muestra\n",
    "sm = SMOTE(random_state=0,sampling_strategy = 0.4)\n",
    "\n",
    "# solo se realiza smote sobre la parte train set\n",
    "X_train, Y_train = sm.fit_resample(X_train, Y_train) \n",
    "\n",
    "\n",
    "print(X_train.shape); print(X_test.shape); print(Y_train.shape); print(Y_test.shape)"
   ]
  },
  {
   "cell_type": "markdown",
   "id": "a5714f10",
   "metadata": {},
   "source": [
    "Comprobamos que los datos estan mas balanceados"
   ]
  },
  {
   "cell_type": "code",
   "execution_count": 19,
   "id": "1df267bc",
   "metadata": {},
   "outputs": [
    {
     "data": {
      "text/plain": [
       "0    0.714286\n",
       "1    0.285714\n",
       "Name: target_c_sev, dtype: float64"
      ]
     },
     "execution_count": 19,
     "metadata": {},
     "output_type": "execute_result"
    }
   ],
   "source": [
    "Y_train.value_counts(normalize=True)"
   ]
  },
  {
   "cell_type": "code",
   "execution_count": 20,
   "id": "5424694f",
   "metadata": {},
   "outputs": [
    {
     "data": {
      "text/plain": [
       "0    0.983622\n",
       "1    0.016378\n",
       "Name: target_c_sev, dtype: float64"
      ]
     },
     "execution_count": 20,
     "metadata": {},
     "output_type": "execute_result"
    }
   ],
   "source": [
    "Y_test.value_counts(normalize=True)"
   ]
  },
  {
   "cell_type": "markdown",
   "id": "ac95b7b4",
   "metadata": {},
   "source": [
    "Pasamos los datos procesados a la carpeta 'data' para utilizar los mismos datos en todos los modelos:"
   ]
  },
  {
   "cell_type": "code",
   "execution_count": 21,
   "id": "73b52164",
   "metadata": {},
   "outputs": [],
   "source": [
    "X_train.to_parquet('data/x_train.parquet')\n",
    "\n",
    "X_test.to_parquet('data/x_test.parquet')"
   ]
  },
  {
   "cell_type": "code",
   "execution_count": 22,
   "id": "5dc49c97",
   "metadata": {},
   "outputs": [],
   "source": [
    "Y_train = pd.DataFrame(Y_train,columns=['target_c_sev'])\n",
    "Y_test = pd.DataFrame(Y_test, columns=['target_c_sev'])\n",
    "Y_train.to_parquet('data/y_train.parquet')\n",
    "Y_test.to_parquet('data/y_test.parquet')"
   ]
  },
  {
   "cell_type": "markdown",
   "id": "eb50d176",
   "metadata": {},
   "source": [
    "<br>\n",
    "\n",
    "### Modelo Base"
   ]
  },
  {
   "cell_type": "code",
   "execution_count": 23,
   "id": "191c625f",
   "metadata": {},
   "outputs": [
    {
     "name": "stdout",
     "output_type": "stream",
     "text": [
      "CPU times: user 163 ms, sys: 33.1 ms, total: 196 ms\n",
      "Wall time: 196 ms\n"
     ]
    },
    {
     "data": {
      "text/plain": [
       "DummyClassifier(strategy='most_frequent')"
      ]
     },
     "execution_count": 23,
     "metadata": {},
     "output_type": "execute_result"
    }
   ],
   "source": [
    "%%time\n",
    "#modelo que se basa en predecir en base a la moda\n",
    "base_model = DummyClassifier(strategy = 'most_frequent')\n",
    "\n",
    "#Entrenamiento del modelo \n",
    "base_model.fit(X_train, Y_train)"
   ]
  },
  {
   "cell_type": "markdown",
   "id": "52fec228",
   "metadata": {},
   "source": [
    "#### Matriz de Confusión"
   ]
  },
  {
   "cell_type": "code",
   "execution_count": 18,
   "id": "88fd2f41",
   "metadata": {},
   "outputs": [],
   "source": [
    "#Función de la matriz de confusion:\n",
    "def conf_matrix(Y_test, Y_pred): # va a comparar los resultados de las predicciones de la variable target vs la real del testset\n",
    "    cnf_matrix_tra = confusion_matrix(Y_test, Y_pred)\n",
    "    conf_plot = sns.heatmap(cnf_matrix_tra, annot=True, cmap='Blues', fmt='g')\n",
    "    bottom, top = conf_plot.get_ylim()\n",
    "    conf_plot.set_ylim(bottom + 0.5, top - 0.5)\n",
    "    conf_plot.set_title(\"Confusion matrix, without normalization\")\n",
    "    conf_plot.set_ylabel('True Label')\n",
    "    conf_plot.set_xlabel('Predicted Label');"
   ]
  },
  {
   "cell_type": "code",
   "execution_count": 19,
   "id": "26403194",
   "metadata": {},
   "outputs": [
    {
     "name": "stdout",
     "output_type": "stream",
     "text": [
      "              precision    recall  f1-score   support\n",
      "\n",
      "           0       0.98      1.00      0.99   1474318\n",
      "           1       0.00      0.00      0.00     24548\n",
      "\n",
      "    accuracy                           0.98   1498866\n",
      "   macro avg       0.49      0.50      0.50   1498866\n",
      "weighted avg       0.97      0.98      0.98   1498866\n",
      "\n"
     ]
    },
    {
     "data": {
      "image/png": "[encoded data removed]",
      "text/plain": [
       "<Figure size 432x288 with 2 Axes>"
      ]
     },
     "metadata": {
      "needs_background": "light"
     },
     "output_type": "display_data"
    }
   ],
   "source": [
    "pred_base = base_model.predict(X_test)\n",
    "conf_matrix(Y_test, pred_base)\n",
    "print(classification_report(Y_test, pred_base))"
   ]
  },
  {
   "cell_type": "code",
   "execution_count": 20,
   "id": "84606074",
   "metadata": {},
   "outputs": [
    {
     "data": {
      "text/plain": [
       "0.983622285114213"
      ]
     },
     "execution_count": 20,
     "metadata": {},
     "output_type": "execute_result"
    }
   ],
   "source": [
    "dummy_accuracy = base_model.score(X_test, Y_test)\n",
    "dummy_accuracy "
   ]
  },
  {
   "cell_type": "markdown",
   "id": "8143e189",
   "metadata": {},
   "source": [
    "Observamos que la precision del modelo devuelve el mismo porcentaje que el de valores 0 de la variable target. Esto es porque ha predecido correctamente todos estos valores, pero sin embargo a los valores 1 también los ha predecido con 0."
   ]
  },
  {
   "cell_type": "markdown",
   "id": "0f050610",
   "metadata": {},
   "source": [
    "#### La paradoja de precisión"
   ]
  },
  {
   "cell_type": "markdown",
   "id": "8731e471",
   "metadata": {},
   "source": [
    "Hemos podido observar que un modelo tan simple como nuestro modelo base tiene una precisión del 98%. Algo que puede parecer excepcional. No obstante esto es una paradoja bastante común con modelos de clasificación de datos desbalanceados. Clases desbalanceadas siempre van a resultar en una precisión distorsionada cuando usamos un modelo que predice en base a la clase mas común. Esto es la paradoja de la precisión para clases desbalanceadas. <br>\n",
    "Tenemos que usar otra metrica para evaluar como de bien generaliza nuestro modelo."
   ]
  },
  {
   "cell_type": "code",
   "execution_count": 21,
   "id": "d9c8529f",
   "metadata": {},
   "outputs": [],
   "source": [
    "from sklearn.metrics import precision_recall_curve,plot_roc_curve"
   ]
  },
  {
   "cell_type": "markdown",
   "id": "c45fcaf4",
   "metadata": {},
   "source": [
    "### Curva ROC:"
   ]
  },
  {
   "cell_type": "markdown",
   "id": "7457aedc",
   "metadata": {},
   "source": [
    "Una curva ROC (curva de característica operativa del recepto) es un gráfico que muestra el rendimiento de un modelo de clasificación en todos los umbrales de clasificación. Esta curva representa dos parámetros:\n",
    "\n",
    "Tasa de verdaderos positivos y Tasa de falsos positivos. <br>\n",
    "<br>\n",
    "El AUC proporciona una medición agregada del rendimiento en todos los umbrales de clasificación posibles. Una forma de interpretar el AUC es como la probabilidad de que el modelo clasifique un ejemplo positivo aleatorio más alto que un ejemplo negativo aleatorio."
   ]
  },
  {
   "cell_type": "code",
   "execution_count": 22,
   "id": "3296376a",
   "metadata": {},
   "outputs": [
    {
     "data": {
      "image/png": "[encoded data removed]",
      "text/plain": [
       "<Figure size 432x288 with 1 Axes>"
      ]
     },
     "metadata": {
      "needs_background": "light"
     },
     "output_type": "display_data"
    }
   ],
   "source": [
    "fig, ax = plt.subplots()\n",
    "plot_roc_curve(base_model,X_test,Y_test,ax=ax);"
   ]
  },
  {
   "cell_type": "markdown",
   "id": "bf5387c3",
   "metadata": {},
   "source": [
    "**Estas métricas de evaluación son mas apropiadas y nos muestran que nuestro modelo base es equivalente a predecir la variable target aleatoriamente** <br>\n",
    "El valor AUC ('Area under the curve') nos permitirá comparar los distintos modelos que vayamos usando"
   ]
  },
  {
   "cell_type": "markdown",
   "id": "33a0001e",
   "metadata": {},
   "source": [
    "#### Guardamos el modelo"
   ]
  },
  {
   "cell_type": "code",
   "execution_count": 23,
   "id": "344f60b1",
   "metadata": {},
   "outputs": [],
   "source": [
    "#función para guardar el modelo\n",
    "def save_models(filename, model):\n",
    "    with open(filename, 'wb') as file:\n",
    "        pickle.dump(model, file)"
   ]
  },
  {
   "cell_type": "code",
   "execution_count": 24,
   "id": "3f75f347",
   "metadata": {},
   "outputs": [],
   "source": [
    "save_models('models/base_model.pkl', base_model )"
   ]
  }
 ],
 "metadata": {
  "kernelspec": {
   "display_name": "Python [conda env:cca_env]",
   "language": "python",
   "name": "conda-env-cca_env-py"
  },
  "language_info": {
   "codemirror_mode": {
    "name": "ipython",
    "version": 3
   },
   "file_extension": ".py",
   "mimetype": "text/x-python",
   "name": "python",
   "nbconvert_exporter": "python",
   "pygments_lexer": "ipython3",
   "version": "3.9.7"
  }
 },
 "nbformat": 4,
 "nbformat_minor": 5
}
