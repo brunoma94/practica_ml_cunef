{
 "cells": [
  {
   "cell_type": "markdown",
   "id": "1ed83166",
   "metadata": {},
   "source": [
    "**19/12/2021**\n",
    "<br>\n",
    "Bruno Mazzilli González"
   ]
  },
  {
   "cell_type": "markdown",
   "id": "d5ed18c1",
   "metadata": {},
   "source": [
    "> # Modelo de Regresión Logística"
   ]
  },
  {
   "cell_type": "markdown",
   "id": "a65b9c50",
   "metadata": {},
   "source": [
    "La regresión logística es un algortimo de Machine Learning que se utiliza para clasificación. Consiste en analizar un conjunto de datos en el que hay una o más variables independientes que determinan un resultado. El resultado se mide con una variable dicotómica, en la que sólo hay dos resultados posibles, en este caso si hubo fallecimiento en un accidente o no."
   ]
  },
  {
   "cell_type": "markdown",
   "id": "031c565d",
   "metadata": {},
   "source": [
    "### Librerias"
   ]
  },
  {
   "cell_type": "code",
   "execution_count": 1,
   "id": "6df19ba9",
   "metadata": {},
   "outputs": [],
   "source": [
    "import numpy as np\n",
    "import pandas as pd\n",
    "import seaborn as sns\n",
    "import matplotlib.pyplot as plt\n",
    "from sklearn.linear_model import LogisticRegression\n",
    "import pickle\n",
    "from sklearn.linear_model import LogisticRegression \n",
    "from sklearn.metrics import classification_report, confusion_matrix \n",
    "from sklearn import datasets, metrics, model_selection\n",
    "\n",
    "import warnings\n",
    "warnings.filterwarnings(\"ignore\")"
   ]
  },
  {
   "cell_type": "markdown",
   "id": "8d24951a",
   "metadata": {},
   "source": [
    "### Importamos datos"
   ]
  },
  {
   "cell_type": "code",
   "execution_count": 2,
   "id": "3df5ff54",
   "metadata": {},
   "outputs": [
    {
     "name": "stdout",
     "output_type": "stream",
     "text": [
      "(4816257, 100)\n"
     ]
    },
    {
     "data": {
      "text/html": [
       "<div>\n",
       "<style scoped>\n",
       "    .dataframe tbody tr th:only-of-type {\n",
       "        vertical-align: middle;\n",
       "    }\n",
       "\n",
       "    .dataframe tbody tr th {\n",
       "        vertical-align: top;\n",
       "    }\n",
       "\n",
       "    .dataframe thead th {\n",
       "        text-align: right;\n",
       "    }\n",
       "</style>\n",
       "<table border=\"1\" class=\"dataframe\">\n",
       "  <thead>\n",
       "    <tr style=\"text-align: right;\">\n",
       "      <th></th>\n",
       "      <th>C_MNTH</th>\n",
       "      <th>V_YEAR</th>\n",
       "      <th>C_HOUR</th>\n",
       "      <th>C_YEAR</th>\n",
       "      <th>C_WTHR_2.0</th>\n",
       "      <th>C_RSUR_7.0</th>\n",
       "      <th>C_TRAF_7.0</th>\n",
       "      <th>V_TYPE_7.0</th>\n",
       "      <th>C_TRAF_10.0</th>\n",
       "      <th>P_PSN_31.0</th>\n",
       "      <th>...</th>\n",
       "      <th>C_VEHS_58.0</th>\n",
       "      <th>P_ISEV_2.0</th>\n",
       "      <th>C_RSUR_9.0</th>\n",
       "      <th>C_VEHS_13.0</th>\n",
       "      <th>P_PSN_97.0</th>\n",
       "      <th>C_CONF_23.0</th>\n",
       "      <th>C_CONF_4.0</th>\n",
       "      <th>C_VEHS_44.0</th>\n",
       "      <th>C_VEHS_35.0</th>\n",
       "      <th>P_PSN_21.0</th>\n",
       "    </tr>\n",
       "  </thead>\n",
       "  <tbody>\n",
       "    <tr>\n",
       "      <th>0</th>\n",
       "      <td>0.181818</td>\n",
       "      <td>0.956140</td>\n",
       "      <td>0.608696</td>\n",
       "      <td>0.933333</td>\n",
       "      <td>1</td>\n",
       "      <td>0</td>\n",
       "      <td>0</td>\n",
       "      <td>0</td>\n",
       "      <td>0</td>\n",
       "      <td>0</td>\n",
       "      <td>...</td>\n",
       "      <td>0</td>\n",
       "      <td>1</td>\n",
       "      <td>0</td>\n",
       "      <td>0</td>\n",
       "      <td>0</td>\n",
       "      <td>0</td>\n",
       "      <td>0</td>\n",
       "      <td>0</td>\n",
       "      <td>0</td>\n",
       "      <td>0</td>\n",
       "    </tr>\n",
       "    <tr>\n",
       "      <th>1</th>\n",
       "      <td>0.363636</td>\n",
       "      <td>0.877193</td>\n",
       "      <td>0.608696</td>\n",
       "      <td>0.333333</td>\n",
       "      <td>0</td>\n",
       "      <td>0</td>\n",
       "      <td>0</td>\n",
       "      <td>0</td>\n",
       "      <td>0</td>\n",
       "      <td>0</td>\n",
       "      <td>...</td>\n",
       "      <td>0</td>\n",
       "      <td>1</td>\n",
       "      <td>0</td>\n",
       "      <td>0</td>\n",
       "      <td>0</td>\n",
       "      <td>0</td>\n",
       "      <td>0</td>\n",
       "      <td>0</td>\n",
       "      <td>0</td>\n",
       "      <td>0</td>\n",
       "    </tr>\n",
       "    <tr>\n",
       "      <th>2</th>\n",
       "      <td>0.636364</td>\n",
       "      <td>0.842105</td>\n",
       "      <td>0.608696</td>\n",
       "      <td>0.800000</td>\n",
       "      <td>0</td>\n",
       "      <td>0</td>\n",
       "      <td>0</td>\n",
       "      <td>0</td>\n",
       "      <td>0</td>\n",
       "      <td>0</td>\n",
       "      <td>...</td>\n",
       "      <td>0</td>\n",
       "      <td>0</td>\n",
       "      <td>0</td>\n",
       "      <td>0</td>\n",
       "      <td>0</td>\n",
       "      <td>0</td>\n",
       "      <td>0</td>\n",
       "      <td>0</td>\n",
       "      <td>0</td>\n",
       "      <td>0</td>\n",
       "    </tr>\n",
       "  </tbody>\n",
       "</table>\n",
       "<p>3 rows × 100 columns</p>\n",
       "</div>"
      ],
      "text/plain": [
       "     C_MNTH    V_YEAR    C_HOUR    C_YEAR  C_WTHR_2.0  C_RSUR_7.0  C_TRAF_7.0  \\\n",
       "0  0.181818  0.956140  0.608696  0.933333           1           0           0   \n",
       "1  0.363636  0.877193  0.608696  0.333333           0           0           0   \n",
       "2  0.636364  0.842105  0.608696  0.800000           0           0           0   \n",
       "\n",
       "   V_TYPE_7.0  C_TRAF_10.0  P_PSN_31.0  ...  C_VEHS_58.0  P_ISEV_2.0  \\\n",
       "0           0            0           0  ...            0           1   \n",
       "1           0            0           0  ...            0           1   \n",
       "2           0            0           0  ...            0           0   \n",
       "\n",
       "   C_RSUR_9.0  C_VEHS_13.0  P_PSN_97.0  C_CONF_23.0  C_CONF_4.0  C_VEHS_44.0  \\\n",
       "0           0            0           0            0           0            0   \n",
       "1           0            0           0            0           0            0   \n",
       "2           0            0           0            0           0            0   \n",
       "\n",
       "   C_VEHS_35.0  P_PSN_21.0  \n",
       "0            0           0  \n",
       "1            0           0  \n",
       "2            0           0  \n",
       "\n",
       "[3 rows x 100 columns]"
      ]
     },
     "execution_count": 2,
     "metadata": {},
     "output_type": "execute_result"
    }
   ],
   "source": [
    "X_train = pd.read_parquet('data/x_train.parquet')\n",
    "print(X_train.shape)\n",
    "X_train.head(3)"
   ]
  },
  {
   "cell_type": "code",
   "execution_count": 3,
   "id": "e6fbc0d2",
   "metadata": {},
   "outputs": [
    {
     "name": "stdout",
     "output_type": "stream",
     "text": [
      "(1498866, 100)\n"
     ]
    },
    {
     "data": {
      "text/html": [
       "<div>\n",
       "<style scoped>\n",
       "    .dataframe tbody tr th:only-of-type {\n",
       "        vertical-align: middle;\n",
       "    }\n",
       "\n",
       "    .dataframe tbody tr th {\n",
       "        vertical-align: top;\n",
       "    }\n",
       "\n",
       "    .dataframe thead th {\n",
       "        text-align: right;\n",
       "    }\n",
       "</style>\n",
       "<table border=\"1\" class=\"dataframe\">\n",
       "  <thead>\n",
       "    <tr style=\"text-align: right;\">\n",
       "      <th></th>\n",
       "      <th>C_MNTH</th>\n",
       "      <th>V_YEAR</th>\n",
       "      <th>C_HOUR</th>\n",
       "      <th>C_YEAR</th>\n",
       "      <th>C_WTHR_2.0</th>\n",
       "      <th>C_RSUR_7.0</th>\n",
       "      <th>C_TRAF_7.0</th>\n",
       "      <th>V_TYPE_7.0</th>\n",
       "      <th>C_TRAF_10.0</th>\n",
       "      <th>P_PSN_31.0</th>\n",
       "      <th>...</th>\n",
       "      <th>C_VEHS_58.0</th>\n",
       "      <th>P_ISEV_2.0</th>\n",
       "      <th>C_RSUR_9.0</th>\n",
       "      <th>C_VEHS_13.0</th>\n",
       "      <th>P_PSN_97.0</th>\n",
       "      <th>C_CONF_23.0</th>\n",
       "      <th>C_CONF_4.0</th>\n",
       "      <th>C_VEHS_44.0</th>\n",
       "      <th>C_VEHS_35.0</th>\n",
       "      <th>P_PSN_21.0</th>\n",
       "    </tr>\n",
       "  </thead>\n",
       "  <tbody>\n",
       "    <tr>\n",
       "      <th>0</th>\n",
       "      <td>0.636364</td>\n",
       "      <td>0.842105</td>\n",
       "      <td>0.521739</td>\n",
       "      <td>0.066667</td>\n",
       "      <td>0</td>\n",
       "      <td>0</td>\n",
       "      <td>0</td>\n",
       "      <td>0</td>\n",
       "      <td>0</td>\n",
       "      <td>0</td>\n",
       "      <td>...</td>\n",
       "      <td>0</td>\n",
       "      <td>1</td>\n",
       "      <td>0</td>\n",
       "      <td>0</td>\n",
       "      <td>0</td>\n",
       "      <td>0</td>\n",
       "      <td>0</td>\n",
       "      <td>0</td>\n",
       "      <td>0</td>\n",
       "      <td>0</td>\n",
       "    </tr>\n",
       "    <tr>\n",
       "      <th>1</th>\n",
       "      <td>0.272727</td>\n",
       "      <td>0.780702</td>\n",
       "      <td>0.956522</td>\n",
       "      <td>0.333333</td>\n",
       "      <td>0</td>\n",
       "      <td>0</td>\n",
       "      <td>0</td>\n",
       "      <td>0</td>\n",
       "      <td>0</td>\n",
       "      <td>0</td>\n",
       "      <td>...</td>\n",
       "      <td>0</td>\n",
       "      <td>0</td>\n",
       "      <td>0</td>\n",
       "      <td>0</td>\n",
       "      <td>0</td>\n",
       "      <td>0</td>\n",
       "      <td>0</td>\n",
       "      <td>0</td>\n",
       "      <td>0</td>\n",
       "      <td>0</td>\n",
       "    </tr>\n",
       "    <tr>\n",
       "      <th>2</th>\n",
       "      <td>0.363636</td>\n",
       "      <td>0.973684</td>\n",
       "      <td>0.478261</td>\n",
       "      <td>1.000000</td>\n",
       "      <td>0</td>\n",
       "      <td>0</td>\n",
       "      <td>0</td>\n",
       "      <td>0</td>\n",
       "      <td>0</td>\n",
       "      <td>0</td>\n",
       "      <td>...</td>\n",
       "      <td>0</td>\n",
       "      <td>0</td>\n",
       "      <td>0</td>\n",
       "      <td>0</td>\n",
       "      <td>0</td>\n",
       "      <td>0</td>\n",
       "      <td>0</td>\n",
       "      <td>0</td>\n",
       "      <td>0</td>\n",
       "      <td>0</td>\n",
       "    </tr>\n",
       "  </tbody>\n",
       "</table>\n",
       "<p>3 rows × 100 columns</p>\n",
       "</div>"
      ],
      "text/plain": [
       "     C_MNTH    V_YEAR    C_HOUR    C_YEAR  C_WTHR_2.0  C_RSUR_7.0  C_TRAF_7.0  \\\n",
       "0  0.636364  0.842105  0.521739  0.066667           0           0           0   \n",
       "1  0.272727  0.780702  0.956522  0.333333           0           0           0   \n",
       "2  0.363636  0.973684  0.478261  1.000000           0           0           0   \n",
       "\n",
       "   V_TYPE_7.0  C_TRAF_10.0  P_PSN_31.0  ...  C_VEHS_58.0  P_ISEV_2.0  \\\n",
       "0           0            0           0  ...            0           1   \n",
       "1           0            0           0  ...            0           0   \n",
       "2           0            0           0  ...            0           0   \n",
       "\n",
       "   C_RSUR_9.0  C_VEHS_13.0  P_PSN_97.0  C_CONF_23.0  C_CONF_4.0  C_VEHS_44.0  \\\n",
       "0           0            0           0            0           0            0   \n",
       "1           0            0           0            0           0            0   \n",
       "2           0            0           0            0           0            0   \n",
       "\n",
       "   C_VEHS_35.0  P_PSN_21.0  \n",
       "0            0           0  \n",
       "1            0           0  \n",
       "2            0           0  \n",
       "\n",
       "[3 rows x 100 columns]"
      ]
     },
     "execution_count": 3,
     "metadata": {},
     "output_type": "execute_result"
    }
   ],
   "source": [
    "X_test = pd.read_parquet('data/x_test.parquet')\n",
    "X_test.reset_index(drop=True, inplace=True)\n",
    "print(X_test.shape)\n",
    "X_test.head(3)"
   ]
  },
  {
   "cell_type": "code",
   "execution_count": 4,
   "id": "b44e3870",
   "metadata": {},
   "outputs": [
    {
     "name": "stdout",
     "output_type": "stream",
     "text": [
      "(4816257, 1)\n"
     ]
    },
    {
     "data": {
      "text/html": [
       "<div>\n",
       "<style scoped>\n",
       "    .dataframe tbody tr th:only-of-type {\n",
       "        vertical-align: middle;\n",
       "    }\n",
       "\n",
       "    .dataframe tbody tr th {\n",
       "        vertical-align: top;\n",
       "    }\n",
       "\n",
       "    .dataframe thead th {\n",
       "        text-align: right;\n",
       "    }\n",
       "</style>\n",
       "<table border=\"1\" class=\"dataframe\">\n",
       "  <thead>\n",
       "    <tr style=\"text-align: right;\">\n",
       "      <th></th>\n",
       "      <th>target_c_sev</th>\n",
       "    </tr>\n",
       "  </thead>\n",
       "  <tbody>\n",
       "    <tr>\n",
       "      <th>0</th>\n",
       "      <td>0</td>\n",
       "    </tr>\n",
       "    <tr>\n",
       "      <th>1</th>\n",
       "      <td>0</td>\n",
       "    </tr>\n",
       "    <tr>\n",
       "      <th>2</th>\n",
       "      <td>0</td>\n",
       "    </tr>\n",
       "  </tbody>\n",
       "</table>\n",
       "</div>"
      ],
      "text/plain": [
       "   target_c_sev\n",
       "0             0\n",
       "1             0\n",
       "2             0"
      ]
     },
     "execution_count": 4,
     "metadata": {},
     "output_type": "execute_result"
    }
   ],
   "source": [
    "Y_train = pd.read_parquet('data/y_train.parquet')\n",
    "print(Y_train.shape)\n",
    "Y_train.head(3)"
   ]
  },
  {
   "cell_type": "code",
   "execution_count": 5,
   "id": "8388b468",
   "metadata": {},
   "outputs": [
    {
     "name": "stdout",
     "output_type": "stream",
     "text": [
      "(1498866, 1)\n"
     ]
    },
    {
     "data": {
      "text/html": [
       "<div>\n",
       "<style scoped>\n",
       "    .dataframe tbody tr th:only-of-type {\n",
       "        vertical-align: middle;\n",
       "    }\n",
       "\n",
       "    .dataframe tbody tr th {\n",
       "        vertical-align: top;\n",
       "    }\n",
       "\n",
       "    .dataframe thead th {\n",
       "        text-align: right;\n",
       "    }\n",
       "</style>\n",
       "<table border=\"1\" class=\"dataframe\">\n",
       "  <thead>\n",
       "    <tr style=\"text-align: right;\">\n",
       "      <th></th>\n",
       "      <th>target_c_sev</th>\n",
       "    </tr>\n",
       "  </thead>\n",
       "  <tbody>\n",
       "    <tr>\n",
       "      <th>0</th>\n",
       "      <td>0</td>\n",
       "    </tr>\n",
       "    <tr>\n",
       "      <th>1</th>\n",
       "      <td>0</td>\n",
       "    </tr>\n",
       "    <tr>\n",
       "      <th>2</th>\n",
       "      <td>0</td>\n",
       "    </tr>\n",
       "  </tbody>\n",
       "</table>\n",
       "</div>"
      ],
      "text/plain": [
       "   target_c_sev\n",
       "0             0\n",
       "1             0\n",
       "2             0"
      ]
     },
     "execution_count": 5,
     "metadata": {},
     "output_type": "execute_result"
    }
   ],
   "source": [
    "Y_test = pd.read_parquet('data/y_test.parquet')\n",
    "Y_test.reset_index(drop=True, inplace=True)\n",
    "print(Y_test.shape)\n",
    "Y_test.head(3)"
   ]
  },
  {
   "cell_type": "markdown",
   "id": "f2f39318",
   "metadata": {},
   "source": [
    "### Logistic Regression Model"
   ]
  },
  {
   "cell_type": "code",
   "execution_count": 6,
   "id": "0d96c61f",
   "metadata": {},
   "outputs": [
    {
     "name": "stdout",
     "output_type": "stream",
     "text": [
      "CPU times: user 9min 21s, sys: 15.4 s, total: 9min 37s\n",
      "Wall time: 9min 50s\n"
     ]
    }
   ],
   "source": [
    "%%time\n",
    "\n",
    "#función del modelo:\n",
    "logit_model = LogisticRegression(solver = \"saga\",\n",
    "                                 penalty = \"l1\", \n",
    "                                 class_weight = \"balanced\", \n",
    "                                 C = 1.0, \n",
    "                                 max_iter = 500)\n",
    "\n",
    "#entrenamos el modelo \n",
    "logit_model.fit(X_train, np.ravel(Y_train))\n",
    "\n",
    "\n",
    "#hacemos la prediccion del target con los datos del test set\n",
    "pred_logit = logit_model.predict(X_test)"
   ]
  },
  {
   "cell_type": "markdown",
   "id": "1e4d6dd4",
   "metadata": {},
   "source": [
    "### Matriz de Confusión"
   ]
  },
  {
   "cell_type": "markdown",
   "id": "550a3c86",
   "metadata": {},
   "source": [
    "La matriz de confusión de un problema de clase n es una matríz nxn en la que las filas se nombran según las clases reales y las columnas, según las clases previstas por el modelo. Sirve para mostrar de forma explícita cuándo una clase es confundida con otra\n",
    "\n",
    "Accuracy: Es el porcentaje total de elementos clasificados correctamente."
   ]
  },
  {
   "cell_type": "code",
   "execution_count": 7,
   "id": "9b9aa20b",
   "metadata": {},
   "outputs": [],
   "source": [
    "def conf_matrix(Y_test, Y_pred): # comparamos los resultados de las predicciones de la variable target vs la real del test set\n",
    "    cnf_matrix_tra = confusion_matrix(Y_test, Y_pred)\n",
    "    conf_plot = sns.heatmap(cnf_matrix_tra, annot=True, cmap='Blues', fmt='g')\n",
    "    bottom, top = conf_plot.get_ylim()\n",
    "    conf_plot.set_ylim(bottom + 0.5, top - 0.5)\n",
    "    conf_plot.set_title(\"Confusion matrix, without normalization\")\n",
    "    conf_plot.set_ylabel('True Label')\n",
    "    conf_plot.set_xlabel('Predicted Label');"
   ]
  },
  {
   "cell_type": "code",
   "execution_count": 8,
   "id": "89e1d170",
   "metadata": {},
   "outputs": [
    {
     "name": "stdout",
     "output_type": "stream",
     "text": [
      "              precision    recall  f1-score   support\n",
      "\n",
      "           0       0.99      0.74      0.85   1474318\n",
      "           1       0.04      0.70      0.08     24548\n",
      "\n",
      "    accuracy                           0.74   1498866\n",
      "   macro avg       0.52      0.72      0.46   1498866\n",
      "weighted avg       0.98      0.74      0.84   1498866\n",
      "\n"
     ]
    },
    {
     "data": {
      "image/png": "[encoded data removed]",
      "text/plain": [
       "<Figure size 432x288 with 2 Axes>"
      ]
     },
     "metadata": {
      "needs_background": "light"
     },
     "output_type": "display_data"
    }
   ],
   "source": [
    "conf_matrix(Y_test, pred_logit)\n",
    "print(classification_report(Y_test, pred_logit))"
   ]
  },
  {
   "cell_type": "markdown",
   "id": "c79536b7",
   "metadata": {},
   "source": [
    "### Matriz de Confusión Normalizada"
   ]
  },
  {
   "cell_type": "code",
   "execution_count": 9,
   "id": "0cd1bd36",
   "metadata": {},
   "outputs": [],
   "source": [
    "def conf_matrix_norm(Y_test, Y_pred): \n",
    "    cnf_matrix_tra = confusion_matrix(Y_test, Y_pred,  normalize='true')\n",
    "    conf_plot = sns.heatmap(cnf_matrix_tra, annot=True, cmap='Blues', fmt='g')\n",
    "    bottom, top = conf_plot.get_ylim()\n",
    "    conf_plot.set_ylim(bottom + 0.5, top - 0.5)\n",
    "    conf_plot.set_title(\"Confusion matrix, with normalization\")\n",
    "    conf_plot.set_ylabel('True Label')\n",
    "    conf_plot.set_xlabel('Predicted Label');"
   ]
  },
  {
   "cell_type": "code",
   "execution_count": 10,
   "id": "27987551",
   "metadata": {},
   "outputs": [
    {
     "name": "stdout",
     "output_type": "stream",
     "text": [
      "              precision    recall  f1-score   support\n",
      "\n",
      "           0       0.99      0.74      0.85   1474318\n",
      "           1       0.04      0.70      0.08     24548\n",
      "\n",
      "    accuracy                           0.74   1498866\n",
      "   macro avg       0.52      0.72      0.46   1498866\n",
      "weighted avg       0.98      0.74      0.84   1498866\n",
      "\n"
     ]
    },
    {
     "data": {
      "image/png": "[encoded data removed]",
      "text/plain": [
       "<Figure size 432x288 with 2 Axes>"
      ]
     },
     "metadata": {
      "needs_background": "light"
     },
     "output_type": "display_data"
    }
   ],
   "source": [
    "pred_logit = logit_model.predict(X_test)\n",
    "conf_matrix_norm(Y_test, pred_logit)\n",
    "print(classification_report(Y_test, pred_logit))"
   ]
  },
  {
   "cell_type": "markdown",
   "id": "a2e9b40f",
   "metadata": {},
   "source": [
    "### Curva ROC:"
   ]
  },
  {
   "cell_type": "code",
   "execution_count": 11,
   "id": "c35069ab",
   "metadata": {},
   "outputs": [
    {
     "data": {
      "image/png": "[encoded data removed]",
      "text/plain": [
       "<Figure size 432x288 with 1 Axes>"
      ]
     },
     "metadata": {
      "needs_background": "light"
     },
     "output_type": "display_data"
    },
    {
     "name": "stdout",
     "output_type": "stream",
     "text": [
      "Logistic Regression score train:  0.7378084267513133\n",
      "Logistic Regression score:  0.7394250053040098\n"
     ]
    }
   ],
   "source": [
    "metrics.plot_roc_curve(logit_model, X_test, Y_test)                             # CURVA ROC\n",
    "plt.show()                     \n",
    "print(\"Logistic Regression score train: \", logit_model.score(X_train, Y_train)) # score train\n",
    "print(\"Logistic Regression score: \", logit_model.score(X_test, Y_test))         # score test\n"
   ]
  },
  {
   "cell_type": "markdown",
   "id": "322a97ac",
   "metadata": {},
   "source": [
    "### Gain Curve:"
   ]
  },
  {
   "cell_type": "markdown",
   "id": "f06d94ac",
   "metadata": {},
   "source": [
    "Se utiliza para evaluar el rendimiento del modelo de clasificación. Miden como un modelo es capaz de mejorar una predicción aleatoria, es decir cómo es de útil el modelo para predecir valores."
   ]
  },
  {
   "cell_type": "code",
   "execution_count": 12,
   "id": "53ce15cc",
   "metadata": {},
   "outputs": [
    {
     "data": {
      "text/plain": [
       "<AxesSubplot:title={'center':'Cumulative Gains Curve'}, xlabel='Percentage of sample', ylabel='Gain'>"
      ]
     },
     "execution_count": 12,
     "metadata": {},
     "output_type": "execute_result"
    },
    {
     "data": {
      "image/png": "[encoded data removed]",
      "text/plain": [
       "<Figure size 432x288 with 1 Axes>"
      ]
     },
     "metadata": {
      "needs_background": "light"
     },
     "output_type": "display_data"
    }
   ],
   "source": [
    "import scikitplot as skplt\n",
    "# Deriving Class probabilities\n",
    "predicted_probabilities = logit_model.predict_proba(X_test)\n",
    "# Creating the plot\n",
    "skplt.metrics.plot_cumulative_gain(Y_test, predicted_probabilities)"
   ]
  },
  {
   "cell_type": "markdown",
   "id": "b3b5b837",
   "metadata": {},
   "source": [
    "### Feature importance"
   ]
  },
  {
   "cell_type": "markdown",
   "id": "93ee78ed",
   "metadata": {},
   "source": [
    "Determina cuáles son las variables que más influyen en el modelo:"
   ]
  },
  {
   "cell_type": "code",
   "execution_count": 13,
   "id": "7739a1bd",
   "metadata": {},
   "outputs": [
    {
     "data": {
      "image/png": "[encoded data removed]",
      "text/plain": [
       "<Figure size 432x288 with 1 Axes>"
      ]
     },
     "metadata": {
      "needs_background": "light"
     },
     "output_type": "display_data"
    }
   ],
   "source": [
    "coefs = np.abs(logit_model.coef_[0])\n",
    "indices = np.argsort(coefs)[::-1]\n",
    "\n",
    "plt.figure()\n",
    "plt.title(\"Feature importances (Logistic Regression)\")\n",
    "plt.bar(range(10), coefs[indices[:10]],\n",
    "       color=\"r\", align=\"center\")\n",
    "plt.xticks(range(10), X_train.columns[indices[:10]], rotation=45, ha='right')\n",
    "plt.subplots_adjust(bottom=0.3)"
   ]
  },
  {
   "cell_type": "code",
   "execution_count": 19,
   "id": "6e75ab6f",
   "metadata": {},
   "outputs": [
    {
     "data": {
      "text/plain": [
       "array([ 1.30402964e-01, -3.27938094e-01, -2.24016602e-01, -2.25581937e-01,\n",
       "        1.05693886e-01, -1.36916702e+00, -1.37431055e+00,  6.28038014e-01,\n",
       "        9.41851811e-01, -1.40550309e+00, -8.43911270e-01, -3.49769240e-01,\n",
       "       -6.09774086e-01, -5.78767189e-01, -3.97286110e-01, -4.66760876e+00,\n",
       "       -1.86524264e+00,  6.57708973e-01, -7.77808779e-01, -2.04643008e+00,\n",
       "       -3.09422329e+00, -4.46122749e-01,  1.01657456e+00, -2.49190081e+00,\n",
       "        1.70962362e-01,  2.19046372e+00, -3.00988348e+00, -3.69021249e-01,\n",
       "        9.88935107e-02, -3.66252774e+00, -8.23060687e-01,  6.58039763e-01,\n",
       "        2.56665966e+00, -1.98706048e+00,  1.12978418e-01,  3.86419924e-03,\n",
       "        5.68567838e+00, -4.42024793e+00, -1.76919186e+00, -3.41404611e-01,\n",
       "       -6.80385377e-01, -2.05012409e+00,  1.10593687e+00, -1.46514834e+00,\n",
       "       -1.04729211e-01, -6.91930973e-01,  4.66525844e-01, -4.26216685e-01,\n",
       "        2.60516588e-01, -4.07761899e+00,  7.02188631e+00, -7.61356594e-01,\n",
       "       -2.78971871e+00,  3.49149330e-02, -5.08110770e-01, -2.97420622e+00,\n",
       "       -1.54294018e+00,  3.38764460e+00,  7.88086605e-01,  7.64586522e+00,\n",
       "        1.24221747e+00,  7.65041454e+00, -4.62946597e+00, -3.23079519e+00,\n",
       "       -3.90310218e-01, -6.08575646e-01, -7.81012549e-01,  6.61962193e-01,\n",
       "       -2.20509286e+00,  4.02931833e-01, -6.74897715e-01, -1.05010433e-01,\n",
       "        4.12247468e-01, -3.31750182e-01, -2.63420698e+00, -1.60945441e+00,\n",
       "       -2.04156641e+00, -4.22179460e+00, -2.41581504e+00, -8.62655497e-01,\n",
       "        7.74298920e+00, -6.87775501e-02,  1.00109718e-02,  1.38080347e+00,\n",
       "        8.81766685e+00, -9.73970986e-01, -1.66378481e+00, -9.43856704e-01,\n",
       "       -4.66334330e-01, -3.20230543e+00, -2.49143035e+00, -9.25201617e-01,\n",
       "       -1.54012031e+00, -4.62334109e+00, -2.15724826e+00, -1.30242269e+00,\n",
       "       -9.18876258e-01, -1.63570961e+00, -3.99430591e+00, -3.32946674e-01])"
      ]
     },
     "execution_count": 19,
     "metadata": {},
     "output_type": "execute_result"
    }
   ],
   "source": [
    "logit_model.coef_[0]"
   ]
  },
  {
   "cell_type": "markdown",
   "id": "5ae67d5f",
   "metadata": {},
   "source": [
    "### Guardamos el modelo"
   ]
  },
  {
   "cell_type": "code",
   "execution_count": 15,
   "id": "070a2ada",
   "metadata": {},
   "outputs": [],
   "source": [
    "def save_models(filename, model):\n",
    "    with open(filename, 'wb') as file:\n",
    "        pickle.dump(model, file)"
   ]
  },
  {
   "cell_type": "code",
   "execution_count": 16,
   "id": "138be8c2",
   "metadata": {},
   "outputs": [],
   "source": [
    "save_models('models/logit_model.pkl', logit_model) "
   ]
  }
 ],
 "metadata": {
  "kernelspec": {
   "display_name": "Python [conda env:cca_env]",
   "language": "python",
   "name": "conda-env-cca_env-py"
  },
  "language_info": {
   "codemirror_mode": {
    "name": "ipython",
    "version": 3
   },
   "file_extension": ".py",
   "mimetype": "text/x-python",
   "name": "python",
   "nbconvert_exporter": "python",
   "pygments_lexer": "ipython3",
   "version": "3.9.7"
  }
 },
 "nbformat": 4,
 "nbformat_minor": 5
}
