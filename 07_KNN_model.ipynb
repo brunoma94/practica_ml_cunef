{
 "cells": [
  {
   "cell_type": "markdown",
   "id": "299869d2",
   "metadata": {},
   "source": [
    "**19/12/2021**\n",
    "<br>\n",
    "Bruno Mazzilli González"
   ]
  },
  {
   "cell_type": "markdown",
   "id": "9d607675",
   "metadata": {},
   "source": [
    "> # Modelo K-nearest neighbours"
   ]
  },
  {
   "cell_type": "markdown",
   "id": "f24b9fcf",
   "metadata": {},
   "source": [
    "El modelo **K-Nearest Neighbours** es un modelo fácil de entender y que no suele tener mucho tiempo de computo en comparación con otros modelos de aprendizaje automatico. Para hacer una predicción el algoritmo de K-Nearest Neighbours busca la representacion en el dataset que más se 'parece' para de este modo predecir la variable objetivo asociada a esta representación."
   ]
  },
  {
   "cell_type": "markdown",
   "id": "3b257c9e",
   "metadata": {},
   "source": [
    "### Librerias"
   ]
  },
  {
   "cell_type": "code",
   "execution_count": 1,
   "id": "eedf5351",
   "metadata": {},
   "outputs": [],
   "source": [
    "import numpy as np\n",
    "import pandas as pd\n",
    "import matplotlib as mpl\n",
    "from matplotlib import pyplot as plt # plots\n",
    "import seaborn as sns # plots\n",
    "from sklearn.preprocessing import StandardScaler\n",
    "from sklearn.model_selection import train_test_split\n",
    "from sklearn.metrics import confusion_matrix, classification_report"
   ]
  },
  {
   "cell_type": "markdown",
   "id": "eadfa01d",
   "metadata": {},
   "source": [
    "### Importamos datos"
   ]
  },
  {
   "cell_type": "code",
   "execution_count": 2,
   "id": "33d96d1e",
   "metadata": {},
   "outputs": [],
   "source": [
    "X_train = pd.read_parquet('data/x_train.parquet')\n",
    "\n",
    "X_test = pd.read_parquet('data/x_test.parquet')\n",
    "X_test.reset_index(drop=True, inplace=True)\n",
    "\n",
    "Y_train = pd.read_parquet('data/y_train.parquet')\n",
    "\n",
    "Y_test = pd.read_parquet('data/y_test.parquet')\n",
    "Y_test.reset_index(drop=True, inplace=True)"
   ]
  },
  {
   "cell_type": "markdown",
   "id": "dc234396",
   "metadata": {},
   "source": [
    "Para utilizar scikit-learn tenemos que convertir el dataframe de Pandas a un Numpy array:"
   ]
  },
  {
   "cell_type": "markdown",
   "id": "ec3b7680",
   "metadata": {},
   "source": [
    "### Modelo K-nearest Neighbours"
   ]
  },
  {
   "cell_type": "code",
   "execution_count": 3,
   "id": "f9d46d05",
   "metadata": {},
   "outputs": [],
   "source": [
    "from sklearn.neighbors import KNeighborsClassifier"
   ]
  },
  {
   "cell_type": "code",
   "execution_count": null,
   "id": "1e6a7c15",
   "metadata": {},
   "outputs": [],
   "source": [
    "%%time\n",
    "\n",
    "#k neighbours que viene por defecto\n",
    "knn_model = KNeighborsClassifier(n_neighbors=5)\n",
    "\n",
    "knn_model.fit(X_train,np.ravel(Y_train))\n",
    "\n",
    "Y_pred_knn = knn_model.predict(X_test)"
   ]
  },
  {
   "cell_type": "markdown",
   "id": "43651bc0",
   "metadata": {},
   "source": [
    "<br>\n",
    "\n",
    "### Matriz de Confusión"
   ]
  },
  {
   "cell_type": "code",
   "execution_count": 5,
   "id": "371e4543",
   "metadata": {},
   "outputs": [],
   "source": [
    "def conf_matrix(Y_test, Y_pred): # va a comparar los resultados de las predicciones de la variable target vs la real del testset\n",
    "    cnf_matrix_tra = confusion_matrix(Y_test, Y_pred)\n",
    "    conf_plot = sns.heatmap(cnf_matrix_tra, annot=True, cmap='Blues', fmt='g')\n",
    "    bottom, top = conf_plot.get_ylim()\n",
    "    conf_plot.set_ylim(bottom + 0.5, top - 0.5)\n",
    "    conf_plot.set_title(\"Confusion matrix, without normalization\")\n",
    "    conf_plot.set_ylabel('True Label')\n",
    "    conf_plot.set_xlabel('Predicted Label');"
   ]
  },
  {
   "cell_type": "code",
   "execution_count": null,
   "id": "5d52f55e",
   "metadata": {},
   "outputs": [],
   "source": [
    "conf_matrix(Y_test, Y_pred_knn)\n",
    "print(classification_report(Y_test, Y_pred_knn))"
   ]
  },
  {
   "cell_type": "markdown",
   "id": "a1fc63c3",
   "metadata": {},
   "source": [
    "### Matriz de Confusión Normalizada"
   ]
  },
  {
   "cell_type": "code",
   "execution_count": null,
   "id": "187ee615",
   "metadata": {},
   "outputs": [],
   "source": [
    "def conf_matrix_norm(Y_test, Y_pred): \n",
    "    cnf_matrix_tra = confusion_matrix(Y_test, Y_pred,  normalize='true')\n",
    "    conf_plot = sns.heatmap(cnf_matrix_tra, annot=True, cmap='Blues', fmt='g')\n",
    "    bottom, top = conf_plot.get_ylim()\n",
    "    conf_plot.set_ylim(bottom + 0.5, top - 0.5)\n",
    "    conf_plot.set_title(\"Confusion matrix, with normalization\")\n",
    "    conf_plot.set_ylabel('True Label')\n",
    "    conf_plot.set_xlabel('Predicted Label');"
   ]
  },
  {
   "cell_type": "code",
   "execution_count": null,
   "id": "d9c49866",
   "metadata": {},
   "outputs": [],
   "source": [
    "conf_matrix_norm(Y_test, Y_pred_rf)\n",
    "print(classification_report(Y_test, Y_pred_knn))"
   ]
  },
  {
   "cell_type": "markdown",
   "id": "0f4eda04",
   "metadata": {},
   "source": [
    "### Curva ROC:"
   ]
  },
  {
   "cell_type": "code",
   "execution_count": null,
   "id": "9e904bd3",
   "metadata": {},
   "outputs": [],
   "source": [
    "metrics.plot_roc_curve(random_forest, X_test, Y_test)                       # CURVA ROC\n",
    "plt.show() \n",
    "print(\"KNN score train: \", knn_model.score(X_train, Y_train)) # score_train\n",
    "print(\"KNN score: \", knn_model.score(X_test, Y_test))         # score_test"
   ]
  },
  {
   "cell_type": "markdown",
   "id": "0e88ec6e",
   "metadata": {},
   "source": [
    "### Gain Curve:"
   ]
  },
  {
   "cell_type": "code",
   "execution_count": null,
   "id": "92691e22",
   "metadata": {},
   "outputs": [],
   "source": [
    "# Deriving Class probabilities\n",
    "predicted_probabilities = knn_model.predict_proba(X_test)\n",
    "# Creating the plot\n",
    "skplt.metrics.plot_cumulative_gain(Y_test, predicted_probabilities);"
   ]
  },
  {
   "cell_type": "markdown",
   "id": "d316155a",
   "metadata": {},
   "source": [
    "### Feature importance"
   ]
  },
  {
   "cell_type": "code",
   "execution_count": null,
   "id": "59066b30",
   "metadata": {},
   "outputs": [],
   "source": [
    "coefs = np.abs(random_forest.feature_importances_)\n",
    "indices = np.argsort(coefs)[::-1]\n",
    "\n",
    "plt.figure()\n",
    "plt.title(\"Feature importances (Random Forest)\")\n",
    "plt.bar(range(10), coefs[indices[:10]],\n",
    "       color=\"r\", align=\"center\")\n",
    "plt.xticks(range(10), X_train.columns[indices[:10]], rotation=45, ha='right')\n",
    "plt.subplots_adjust(bottom=0.3)"
   ]
  },
  {
   "cell_type": "markdown",
   "id": "95f4803c",
   "metadata": {},
   "source": [
    "#### Guardamos el modelo"
   ]
  },
  {
   "cell_type": "code",
   "execution_count": null,
   "id": "4f58e5b9",
   "metadata": {},
   "outputs": [],
   "source": [
    "# función para guardar el modelo\n",
    "def save_models(filename, model):\n",
    "    with open(filename, 'wb') as file:\n",
    "        pickle.dump(model, file)"
   ]
  },
  {
   "cell_type": "code",
   "execution_count": null,
   "id": "2b06dafb",
   "metadata": {},
   "outputs": [],
   "source": [
    "save_models('models/knn_model.pkl', knn_model)"
   ]
  }
 ],
 "metadata": {
  "kernelspec": {
   "display_name": "Python [conda env:cca_env]",
   "language": "python",
   "name": "conda-env-cca_env-py"
  },
  "language_info": {
   "codemirror_mode": {
    "name": "ipython",
    "version": 3
   },
   "file_extension": ".py",
   "mimetype": "text/x-python",
   "name": "python",
   "nbconvert_exporter": "python",
   "pygments_lexer": "ipython3",
   "version": "3.9.7"
  }
 },
 "nbformat": 4,
 "nbformat_minor": 5
}
